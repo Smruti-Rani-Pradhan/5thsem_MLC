{
 "cells": [
  {
   "cell_type": "code",
   "execution_count": 1,
   "id": "826a8dd1",
   "metadata": {},
   "outputs": [
    {
     "name": "stdout",
     "output_type": "stream",
     "text": [
      "[1 2 3]\n",
      "[ 1.5 -2.   3. ] and it's type is <class 'numpy.ndarray'>\n"
     ]
    }
   ],
   "source": [
    "import numpy as np\n",
    "x=np.array([1,2,3])\n",
    "print(x)\n",
    "data=np.array([1.5,-2,3])\n",
    "print(data,\"and it's type is\",type(data))"
   ]
  },
  {
   "cell_type": "code",
   "execution_count": 2,
   "id": "15399d4e",
   "metadata": {},
   "outputs": [
    {
     "name": "stdout",
     "output_type": "stream",
     "text": [
      "[['1.5' '-2' '3']\n",
      " ['Hello' '4.7' 'ITER']]\n"
     ]
    }
   ],
   "source": [
    "data=np.array([[1.5,-2,3],['Hello',4.7,'ITER']])\n",
    "print(data)"
   ]
  },
  {
   "cell_type": "code",
   "execution_count": 4,
   "id": "952df19f",
   "metadata": {},
   "outputs": [
    {
     "data": {
      "text/plain": [
       "2"
      ]
     },
     "execution_count": 4,
     "metadata": {},
     "output_type": "execute_result"
    }
   ],
   "source": [
    "data.ndim"
   ]
  },
  {
   "cell_type": "code",
   "execution_count": 5,
   "id": "2a1501fe",
   "metadata": {},
   "outputs": [
    {
     "data": {
      "text/plain": [
       "(2, 3)"
      ]
     },
     "execution_count": 5,
     "metadata": {},
     "output_type": "execute_result"
    }
   ],
   "source": [
    "data.shape"
   ]
  },
  {
   "cell_type": "code",
   "execution_count": 7,
   "id": "d9c64d44",
   "metadata": {},
   "outputs": [
    {
     "data": {
      "text/plain": [
       "array([1., 1., 1., 1., 1., 1., 1.])"
      ]
     },
     "execution_count": 7,
     "metadata": {},
     "output_type": "execute_result"
    }
   ],
   "source": [
    "y=np.ones(7)\n",
    "y"
   ]
  },
  {
   "cell_type": "code",
   "execution_count": 8,
   "id": "89cc7816",
   "metadata": {},
   "outputs": [
    {
     "data": {
      "text/plain": [
       "array([0., 0., 0., 0., 0., 0., 0.])"
      ]
     },
     "execution_count": 8,
     "metadata": {},
     "output_type": "execute_result"
    }
   ],
   "source": [
    "x=np.zeros(7)\n",
    "x"
   ]
  },
  {
   "cell_type": "code",
   "execution_count": 10,
   "id": "d1af81e8",
   "metadata": {},
   "outputs": [
    {
     "name": "stdout",
     "output_type": "stream",
     "text": [
      "Array 1: [44 57  3 31  6 46 26 90 91 65]\n",
      "Array 2: [74 33 55 13 95 25 66  2 44 30]\n",
      "Greater than: [False  True False  True False  True False  True  True  True]\n",
      "Less than: [ True False  True False  True False  True False False False]\n",
      "Equal: [74 33 55 13 95 25 66  2 44 30]\n",
      "6\n"
     ]
    }
   ],
   "source": [
    "arr1=np.random.randint(1,100,size=10)   \n",
    "arr2=np.random.randint(1,100,size=10) \n",
    "print(\"Array 1:\",arr1)\n",
    "print(\"Array 2:\",arr2)\n",
    "greater=arr1>arr2\n",
    "less=arr1<arr2\n",
    "equal=arr1=arr2\n",
    "print(\"Greater than:\",greater)\n",
    "print(\"Less than:\",less)\n",
    "print(\"Equal:\",equal)\n",
    "count=np.sum(greater)\n",
    "print(count)"
   ]
  },
  {
   "cell_type": "code",
   "execution_count": 14,
   "id": "932f5170",
   "metadata": {},
   "outputs": [
    {
     "name": "stdout",
     "output_type": "stream",
     "text": [
      "Average marks: 57.7\n",
      "Students who scored above average: [78 90 65 87 91]\n"
     ]
    }
   ],
   "source": [
    "marks_list=[12,34,56,78,90,21,43,65,87,91]\n",
    "marks_array=np.array(marks_list)\n",
    "average=np.mean(marks_array)\n",
    "print(\"Average marks:\",average)\n",
    "above_avg=marks_array[marks_array > average]\n",
    "print(\"Students who scored above average:\",above_avg)"
   ]
  },
  {
   "cell_type": "code",
   "execution_count": 21,
   "id": "90741cce",
   "metadata": {},
   "outputs": [
    {
     "name": "stdout",
     "output_type": "stream",
     "text": [
      "\n",
      " Original 4*4 \n",
      " [[ 1  2  3  4]\n",
      " [ 5  6  7  8]\n",
      " [ 9 10 11 12]\n",
      " [13 14 15 16]]\n",
      "\n",
      " Second row [5 6 7 8]\n",
      "\n",
      " Second row [ 3  7 11 15]\n",
      "\n",
      " 2x2 sub-matrix from bottom right corner:\n",
      " [[11 12]\n",
      " [15 16]]\n"
     ]
    }
   ],
   "source": [
    "# matrix=np.array([1,2,3,4],[5,6,7,8],[9,10,11,12],[13,14,15,16])   \n",
    "arr=np.arange(1,17).reshape(4,4)\n",
    "print(\"\\n Original 4*4 \\n\",arr)\n",
    "sec_row=arr[1,:]\n",
    "print(\"\\n Second row\",sec_row)\n",
    "Third_col=arr[:,2]\n",
    "print(\"\\n Third Col\",Third_col)\n",
    "sub_matrix=arr[2:4,2:4]\n",
    "print(\"\\n 2x2 sub-matrix from bottom right corner:\\n\",sub_matrix)"
   ]
  },
  {
   "cell_type": "code",
   "execution_count": 2,
   "id": "1151d245",
   "metadata": {},
   "outputs": [
    {
     "name": "stdout",
     "output_type": "stream",
     "text": [
      "Original Array:\n",
      " [[ 1  2  3  4]\n",
      " [ 5  6  7  8]\n",
      " [ 9 10 11 12]]\n",
      "reshaped array:\n",
      " [[ 1  2  3]\n",
      " [ 4  5  6]\n",
      " [ 7  8  9]\n",
      " [10 11 12]]\n",
      "reshaped array:\n",
      " [ 1  2  3  4  5  6  7  8  9 10 11 12]\n"
     ]
    }
   ],
   "source": [
    "import numpy as np\n",
    "\n",
    "arr=np.arange(1,13).reshape(3,4)\n",
    "print(\"Original Array:\\n\",arr)\n",
    "print(\"reshaped array:\\n\",arr.reshape(4,3))\n",
    "print(\"reshaped array:\\n\",arr.ravel())\n",
    "      \n"
   ]
  },
  {
   "cell_type": "code",
   "execution_count": 8,
   "id": "c0e10b63",
   "metadata": {},
   "outputs": [
    {
     "name": "stdout",
     "output_type": "stream",
     "text": [
      "{1: 150, 2: 160, 3: 178, 4: 191, 5: 157, 6: 164}\n"
     ]
    }
   ],
   "source": [
    "import numpy as np\n",
    "val=np.random.randint(1,7,1000)\n",
    "# print(val)\n",
    "dics={i:np.sum(val==i) for i in range(1,7)}\n",
    "print(dics)"
   ]
  },
  {
   "cell_type": "code",
   "execution_count": 9,
   "id": "25c7816c",
   "metadata": {},
   "outputs": [
    {
     "name": "stdout",
     "output_type": "stream",
     "text": [
      "[[ 30  36  42]\n",
      " [ 66  81  96]\n",
      " [102 126 150]]\n"
     ]
    }
   ],
   "source": [
    "#Q5\n",
    "import numpy as np\n",
    "arr1=np.arange(1,10).reshape(3,3)\n",
    "arr2=np.arange(1,10).reshape(3,3)\n",
    "print(np.matmul(arr1,arr2))"
   ]
  },
  {
   "cell_type": "code",
   "execution_count": 12,
   "id": "b9367f18",
   "metadata": {},
   "outputs": [
    {
     "name": "stdout",
     "output_type": "stream",
     "text": [
      "6.66133814775094e-16\n",
      "[[-4.50359963e+15  9.00719925e+15 -4.50359963e+15]\n",
      " [ 9.00719925e+15 -1.80143985e+16  9.00719925e+15]\n",
      " [-4.50359963e+15  9.00719925e+15 -4.50359963e+15]]\n",
      "[[ 0.  0.  0.]\n",
      " [-4.  0. -4.]\n",
      " [ 0.  0.  0.]]\n"
     ]
    }
   ],
   "source": [
    "import numpy as np\n",
    "arr1=np.arange(1,10).reshape(3,3)\n",
    "det=np.linalg.det(arr1)\n",
    "inv=np.linalg.inv(arr1)\n",
    "idcheck=np.dot(arr1,inv)\n",
    "print(det)\n",
    "print(inv)\n",
    "print(idcheck)"
   ]
  },
  {
   "cell_type": "code",
   "execution_count": null,
   "id": "3099b66d",
   "metadata": {},
   "outputs": [],
   "source": []
  }
 ],
 "metadata": {
  "kernelspec": {
   "display_name": "Python 3 (ipykernel)",
   "language": "python",
   "name": "python3"
  },
  "language_info": {
   "codemirror_mode": {
    "name": "ipython",
    "version": 3
   },
   "file_extension": ".py",
   "mimetype": "text/x-python",
   "name": "python",
   "nbconvert_exporter": "python",
   "pygments_lexer": "ipython3",
   "version": "3.11.4"
  }
 },
 "nbformat": 4,
 "nbformat_minor": 5
}
