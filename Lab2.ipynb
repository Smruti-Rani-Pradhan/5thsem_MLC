{
 "cells": [
  {
   "cell_type": "code",
   "execution_count": 6,
   "id": "732e8ad6",
   "metadata": {},
   "outputs": [
    {
     "name": "stdout",
     "output_type": "stream",
     "text": [
      "Original series:\n",
      "a    10\n",
      "b    20\n",
      "c    30\n",
      "d    40\n",
      "dtype: int64\n",
      "Firs three elements:\n",
      " a    10\n",
      "b    20\n",
      "c    30\n",
      "dtype: int64\n",
      "Ele at index c:\n",
      " 30\n"
     ]
    }
   ],
   "source": [
    "#1\n",
    "import pandas as pd\n",
    "data=[10,20,30,40]\n",
    "custom_index=['a','b','c','d']\n",
    "s=pd.Series(data,index=custom_index)\n",
    "print(\"Original series:\")\n",
    "print(s)\n",
    "print(\"Firs three elements:\\n\",s.head(3))\n",
    "print(\"Ele at index c:\\n\",s['c'])"
   ]
  },
  {
   "cell_type": "code",
   "execution_count": 16,
   "id": "77a856a5",
   "metadata": {},
   "outputs": [
    {
     "name": "stdout",
     "output_type": "stream",
     "text": [
      "s2 series\n",
      " 0    50\n",
      "1    13\n",
      "2    30\n",
      "3    11\n",
      "4    88\n",
      "5    23\n",
      "6    43\n",
      "7    15\n",
      "8     8\n",
      "9    80\n",
      "dtype: int64\n",
      "a)max 88 b)min 8 b)mean 36.1\n",
      "\n",
      " 0    2500\n",
      "1     169\n",
      "2     900\n",
      "3     121\n",
      "4    7744\n",
      "5     529\n",
      "6    1849\n",
      "7     225\n",
      "8      64\n",
      "9    6400\n",
      "dtype: int64\n"
     ]
    }
   ],
   "source": [
    "#2\n",
    "import numpy as np\n",
    "arr=np.random.randint(1,101,size=10)\n",
    "s2=pd.Series(arr)\n",
    "print(\"s2 series\\n\",s2)\n",
    "print(\"a)max\",s2.max(),\"b)min\",s2.min(),\"b)mean\",s2.mean())\n",
    "s2_squared=s2**2;\n",
    "print(\"\\n\",s2_squared)"
   ]
  },
  {
   "cell_type": "code",
   "execution_count": 15,
   "id": "25ff2b44",
   "metadata": {},
   "outputs": [
    {
     "name": "stdout",
     "output_type": "stream",
     "text": [
      "Series s3\n",
      " 0     5.0\n",
      "1     NaN\n",
      "2     8.0\n",
      "3     NaN\n",
      "4    12.0\n",
      "dtype: float64\n",
      "Missing value:\n",
      " 0    False\n",
      "1     True\n",
      "2    False\n",
      "3     True\n",
      "4    False\n",
      "dtype: bool\n",
      "Forward fill:\n",
      " 0     5.0\n",
      "1     5.0\n",
      "2     8.0\n",
      "3     8.0\n",
      "4    12.0\n",
      "dtype: float64\n",
      "Drop NaN values:\n",
      " 0     5.0\n",
      "2     8.0\n",
      "4    12.0\n",
      "dtype: float64\n"
     ]
    }
   ],
   "source": [
    "#3\n",
    "s3=pd.Series([5,np.nan,8,np.nan,12])\n",
    "print(\"Series s3\\n\",s3)\n",
    "print(\"Missing value:\\n\",s3.isnull())\n",
    "print(\"Forward fill:\\n\",s3.ffill())\n",
    "print(\"Drop NaN values:\\n\",s3.dropna())"
   ]
  },
  {
   "cell_type": "code",
   "execution_count": null,
   "id": "68379555",
   "metadata": {},
   "outputs": [],
   "source": []
  }
 ],
 "metadata": {
  "kernelspec": {
   "display_name": "Python 3 (ipykernel)",
   "language": "python",
   "name": "python3"
  },
  "language_info": {
   "codemirror_mode": {
    "name": "ipython",
    "version": 3
   },
   "file_extension": ".py",
   "mimetype": "text/x-python",
   "name": "python",
   "nbconvert_exporter": "python",
   "pygments_lexer": "ipython3",
   "version": "3.11.4"
  }
 },
 "nbformat": 4,
 "nbformat_minor": 5
}
