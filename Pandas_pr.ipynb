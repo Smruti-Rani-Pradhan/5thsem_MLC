{
 "cells": [
  {
   "cell_type": "code",
   "execution_count": 3,
   "id": "3b6dbed4",
   "metadata": {},
   "outputs": [
    {
     "name": "stdout",
     "output_type": "stream",
     "text": [
      "   0\n",
      "0  a\n",
      "1  b\n",
      "2  c\n",
      "3  d\n"
     ]
    }
   ],
   "source": [
    "import pandas as pd\n",
    "s=pd.Series(['a','b','c','d'])\n",
    "df=pd.DataFrame(s)\n",
    "print(df)"
   ]
  },
  {
   "cell_type": "code",
   "execution_count": 6,
   "id": "56977869",
   "metadata": {},
   "outputs": [
    {
     "name": "stdout",
     "output_type": "stream",
     "text": [
      "     Name Team\n",
      "0  Smruti    S\n",
      "1    Rani    R\n"
     ]
    }
   ],
   "source": [
    "import pandas as pd\n",
    "name=pd.Series(['Smruti','Rani'])\n",
    "team=pd.Series(['S','R'])\n",
    "dic={'Name':name, 'Team':team}\n",
    "df=pd.DataFrame(dic)\n",
    "print(df)"
   ]
  },
  {
   "cell_type": "code",
   "execution_count": 8,
   "id": "9c36c2b6",
   "metadata": {},
   "outputs": [
    {
     "name": "stdout",
     "output_type": "stream",
     "text": [
      "  FirstName  LastName\n",
      "0    Smruti      Rani\n",
      "1    Smruti  Bhardwaj\n",
      "2    Smruti   Sandhya\n"
     ]
    }
   ],
   "source": [
    "import pandas as pd\n",
    "dicl=[\n",
    "    {'FirstName':'Smruti','LastName':'Rani'},\n",
    "    {'FirstName':'Smruti','LastName':'Bhardwaj'},\n",
    "    {'FirstName':'Smruti','LastName':'Sandhya'}\n",
    "]\n",
    "df1=pd.DataFrame(dicl)\n",
    "print(df1)\n"
   ]
  },
  {
   "cell_type": "code",
   "execution_count": 16,
   "id": "9c6a17ad",
   "metadata": {},
   "outputs": [
    {
     "name": "stdout",
     "output_type": "stream",
     "text": [
      "   empid   ename       DOJ\n",
      "0     10  Sachin  12-10-19\n",
      "1     12   Vinod   2-10-19\n",
      "2     13    Anil   2-10-19\n",
      "3     31    AmaN  12-10-19\n",
      "4     14    ALOK   2-10-19\n",
      "5     15    ANDA   2-10-19\n"
     ]
    }
   ],
   "source": [
    "import pandas as pd\n",
    "empdata ={\n",
    "    'empid':[10,12,13,31,14,15],\n",
    "    'ename':['Sachin','Vinod','Anil','AmaN','ALOK','ANDA'],\n",
    "    'DOJ':['12-10-19','2-10-19','2-10-19','12-10-19','2-10-19','2-10-19']\n",
    "}\n",
    "df1=pd.DataFrame(empdata)\n",
    "print(df1)"
   ]
  },
  {
   "cell_type": "code",
   "execution_count": 19,
   "id": "a30b23f4",
   "metadata": {},
   "outputs": [
    {
     "data": {
      "text/html": [
       "<div>\n",
       "<style scoped>\n",
       "    .dataframe tbody tr th:only-of-type {\n",
       "        vertical-align: middle;\n",
       "    }\n",
       "\n",
       "    .dataframe tbody tr th {\n",
       "        vertical-align: top;\n",
       "    }\n",
       "\n",
       "    .dataframe thead th {\n",
       "        text-align: right;\n",
       "    }\n",
       "</style>\n",
       "<table border=\"1\" class=\"dataframe\">\n",
       "  <thead>\n",
       "    <tr style=\"text-align: right;\">\n",
       "      <th></th>\n",
       "      <th>empid</th>\n",
       "      <th>ename</th>\n",
       "    </tr>\n",
       "  </thead>\n",
       "  <tbody>\n",
       "    <tr>\n",
       "      <th>0</th>\n",
       "      <td>10</td>\n",
       "      <td>Sachin</td>\n",
       "    </tr>\n",
       "    <tr>\n",
       "      <th>1</th>\n",
       "      <td>12</td>\n",
       "      <td>Vinod</td>\n",
       "    </tr>\n",
       "    <tr>\n",
       "      <th>2</th>\n",
       "      <td>13</td>\n",
       "      <td>Anil</td>\n",
       "    </tr>\n",
       "    <tr>\n",
       "      <th>3</th>\n",
       "      <td>31</td>\n",
       "      <td>AmaN</td>\n",
       "    </tr>\n",
       "    <tr>\n",
       "      <th>4</th>\n",
       "      <td>14</td>\n",
       "      <td>ALOK</td>\n",
       "    </tr>\n",
       "    <tr>\n",
       "      <th>5</th>\n",
       "      <td>15</td>\n",
       "      <td>ANDA</td>\n",
       "    </tr>\n",
       "  </tbody>\n",
       "</table>\n",
       "</div>"
      ],
      "text/plain": [
       "   empid   ename\n",
       "0     10  Sachin\n",
       "1     12   Vinod\n",
       "2     13    Anil\n",
       "3     31    AmaN\n",
       "4     14    ALOK\n",
       "5     15    ANDA"
      ]
     },
     "execution_count": 19,
     "metadata": {},
     "output_type": "execute_result"
    }
   ],
   "source": [
    "df1[['empid','ename']]"
   ]
  },
  {
   "cell_type": "code",
   "execution_count": 26,
   "id": "a258abd3",
   "metadata": {},
   "outputs": [
    {
     "name": "stdout",
     "output_type": "stream",
     "text": [
      "Data.csv created succesfully!\n",
      "   age    name      city\n",
      "0   10  Sachin  Umerkote\n",
      "1   12   Vinod      Nbpr\n",
      "2   13    Anil      Nbpr\n",
      "3   31    AmaN      Nbpr\n",
      "4   14    ALOK      Nbpr\n",
      "5   15   ANDAZ      Nbpr\n"
     ]
    }
   ],
   "source": [
    "import pandas as pd\n",
    "data ={\n",
    "    'age':[10,12,13,31,14,15],\n",
    "    'name':['Sachin','Vinod','Anil','AmaN','ALOK','ANDAZ'],\n",
    "    'city':['Umerkote','Nbpr','Nbpr','Nbpr','Nbpr','Nbpr']\n",
    "}\n",
    "df1=pd.DataFrame(data)\n",
    "df1.to_csv('data.csv',index=False)\n",
    "print(\"Data.csv created succesfully!\")\n",
    "df2=pd.read_csv('data.csv')\n",
    "print(df2)\n"
   ]
  },
  {
   "cell_type": "code",
   "execution_count": 29,
   "id": "d389e79a",
   "metadata": {},
   "outputs": [
    {
     "name": "stdout",
     "output_type": "stream",
     "text": [
      "saved as 'auto_mpg.csv'\n",
      "    mpg  cylinders  displacement     hp  weight   acc  model  origin  \\\n",
      "0  18.0          8         307.0  130.0  3504.0  12.0     70       1   \n",
      "1  15.0          8         350.0  165.0  3693.0  11.5     70       1   \n",
      "2  18.0          8         318.0  150.0  3436.0  11.0     70       1   \n",
      "3  16.0          8         304.0  150.0  3433.0  12.0     70       1   \n",
      "4  17.0          8         302.0  140.0  3449.0  10.5     70       1   \n",
      "\n",
      "                         car  \n",
      "0  chevrolet chevelle malibu  \n",
      "1          buick skylark 320  \n",
      "2         plymouth satellite  \n",
      "3              amc rebel sst  \n",
      "4                ford torino  \n"
     ]
    }
   ],
   "source": [
    "import pandas as pd\n",
    "col_names =[\n",
    "    \"mpg\",\"cylinders\",\"displacement\",\"hp\",\"weight\",\"acc\",\"model\",\"origin\",\"car\"\n",
    "]\n",
    "url=\"https://archive.ics.uci.edu/ml/machine-learning-databases/auto-mpg/auto-mpg.data\"\n",
    "\n",
    "df=pd.read_csv(\n",
    "url,\n",
    "sep='\\s+',\n",
    "names=col_names,\n",
    "na_values=\"?\",\n",
    ")\n",
    "df.to_csv(\"auto_mpg.csv\",index=False)\n",
    "print(\"saved as 'auto_mpg.csv'\")\n",
    "print(df.head())\n"
   ]
  },
  {
   "cell_type": "code",
   "execution_count": 13,
   "id": "d283039f",
   "metadata": {},
   "outputs": [
    {
     "name": "stdout",
     "output_type": "stream",
     "text": [
      "\n",
      "1.Original DataFrame\n",
      "   age    name      city\n",
      "0   10  Sachin  Umerkote\n",
      "1   12   Vinod      Nbpr\n",
      "2   13    Anil      Nbpr\n",
      "3   13    Anil      Nbpr\n",
      "4   14   Ashok      Nbpr\n",
      "5   15   ANDAZ      Nbpr\n",
      "Identify duplicates;\n",
      "0    False\n",
      "1    False\n",
      "2    False\n",
      "3     True\n",
      "4    False\n",
      "5    False\n",
      "dtype: bool\n",
      "Duplicate row only\n",
      "   age  name  city\n",
      "3   13  Anil  Nbpr\n",
      "   age    name      city\n",
      "0   10  Sachin  Umerkote\n",
      "1   12   Vinod      Nbpr\n",
      "2   13    Anil      Nbpr\n",
      "4   14   Ashok      Nbpr\n",
      "5   15   ANDAZ      Nbpr\n",
      "   age    name      city\n",
      "0   10  Sachin  Umerkote\n",
      "1   12   Vinod      Nbpr\n",
      "3   13    Anil      Nbpr\n",
      "4   14   Ashok      Nbpr\n",
      "5   15   ANDAZ      Nbpr\n"
     ]
    }
   ],
   "source": [
    "import pandas as pd\n",
    "data ={\n",
    "    'age':[10,12,13,13,14,15],\n",
    "    'name':['Sachin','Vinod','Anil','Anil','Ashok','ANDAZ'],\n",
    "    'city':['Umerkote','Nbpr','Nbpr','Nbpr','Nbpr','Nbpr']\n",
    "}\n",
    "df=pd.DataFrame(data)\n",
    "print(\"\\n1.Original DataFrame\")\n",
    "print(df)\n",
    "print(\"Identify duplicates;\")\n",
    "print(df.duplicated())\n",
    "print(\"Duplicate row only\")\n",
    "print(df[df.duplicated()])\n",
    "df_first=df.drop_duplicates(keep='first') \n",
    "print(df_first)\n",
    "df_last=df.drop_duplicates(keep='last') \n",
    "print(df_last)"
   ]
  },
  {
   "cell_type": "code",
   "execution_count": 12,
   "id": "4196ae91",
   "metadata": {},
   "outputs": [
    {
     "name": "stdout",
     "output_type": "stream",
     "text": [
      "\n",
      " drop duplicates based on name and age\n",
      "   age    name      city\n",
      "0   10  Sachin  Umerkote\n",
      "1   12   Vinod      Nbpr\n",
      "2   13    Anil      Nbpr\n",
      "4   14   Ashok      Nbpr\n",
      "5   15   ANDAZ      Nbpr\n"
     ]
    }
   ],
   "source": [
    "print(\"\\n drop duplicates based on name and age\")\n",
    "df_subset=df.drop_duplicates(subset=['name','age'])\n",
    "print(df_subset)"
   ]
  },
  {
   "cell_type": "code",
   "execution_count": null,
   "id": "1b1b5c38",
   "metadata": {},
   "outputs": [],
   "source": []
  }
 ],
 "metadata": {
  "kernelspec": {
   "display_name": "Python 3 (ipykernel)",
   "language": "python",
   "name": "python3"
  },
  "language_info": {
   "codemirror_mode": {
    "name": "ipython",
    "version": 3
   },
   "file_extension": ".py",
   "mimetype": "text/x-python",
   "name": "python",
   "nbconvert_exporter": "python",
   "pygments_lexer": "ipython3",
   "version": "3.11.4"
  }
 },
 "nbformat": 4,
 "nbformat_minor": 5
}
