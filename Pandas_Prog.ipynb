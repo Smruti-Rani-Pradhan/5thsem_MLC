{
 "cells": [
  {
   "cell_type": "code",
   "execution_count": 1,
   "id": "a7642551",
   "metadata": {},
   "outputs": [
    {
     "name": "stdout",
     "output_type": "stream",
     "text": [
      "0    10\n",
      "1    15\n",
      "2    18\n",
      "3    22\n",
      "dtype: int64\n"
     ]
    }
   ],
   "source": [
    "import pandas as pd\n",
    "import numpy as np\n",
    "arr=np.array([10,15,18,22])\n",
    "s=pd.Series(arr)\n",
    "print(s)"
   ]
  },
  {
   "cell_type": "code",
   "execution_count": 4,
   "id": "3dca22ca",
   "metadata": {},
   "outputs": [
    {
     "name": "stdout",
     "output_type": "stream",
     "text": [
      "0    20.0\n",
      "1    30.0\n",
      "2    36.0\n",
      "3     NaN\n",
      "dtype: float64\n"
     ]
    }
   ],
   "source": [
    "import pandas as pd\n",
    "import numpy as np\n",
    "arr1=np.array([10,15,18,22])\n",
    "arr2=np.array([10,15,18])\n",
    "s=pd.Series(arr1)+pd.Series(arr2)\n",
    "print(s)"
   ]
  },
  {
   "cell_type": "code",
   "execution_count": 7,
   "id": "1dfa11d5",
   "metadata": {},
   "outputs": [
    {
     "name": "stdout",
     "output_type": "stream",
     "text": [
      "0    30.0\n",
      "1    45.0\n",
      "2    54.0\n",
      "3     NaN\n",
      "dtype: float64\n",
      "0    30.0\n",
      "1    45.0\n",
      "dtype: float64\n"
     ]
    }
   ],
   "source": [
    "import pandas as pd\n",
    "import numpy as np\n",
    "arr1=np.array([10,15,18,22])\n",
    "arr2=np.array([10,15,18])\n",
    "arr3=np.array([10,15,18])\n",
    "s=pd.Series(arr1)+pd.Series(arr2)+pd.Series(arr3)\n",
    "print(s)\n",
    "print(s.head(2))"
   ]
  },
  {
   "cell_type": "code",
   "execution_count": null,
   "id": "65ebaf2a",
   "metadata": {},
   "outputs": [],
   "source": []
  }
 ],
 "metadata": {
  "kernelspec": {
   "display_name": "Python 3 (ipykernel)",
   "language": "python",
   "name": "python3"
  },
  "language_info": {
   "codemirror_mode": {
    "name": "ipython",
    "version": 3
   },
   "file_extension": ".py",
   "mimetype": "text/x-python",
   "name": "python",
   "nbconvert_exporter": "python",
   "pygments_lexer": "ipython3",
   "version": "3.11.4"
  }
 },
 "nbformat": 4,
 "nbformat_minor": 5
}
